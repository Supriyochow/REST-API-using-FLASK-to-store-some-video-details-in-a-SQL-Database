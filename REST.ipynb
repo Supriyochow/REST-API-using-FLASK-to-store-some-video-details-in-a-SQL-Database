{
 "cells": [
  {
   "cell_type": "markdown",
   "source": [
    "# Importing Files And Basic API"
   ],
   "metadata": {}
  },
  {
   "cell_type": "markdown",
   "source": [
    "# Basic Flask REST API"
   ],
   "metadata": {}
  },
  {
   "cell_type": "code",
   "execution_count": null,
   "source": [
    "from flask import Flask\r\n",
    "from flask_restful import Api, Resource\r\n",
    "\r\n",
    "app = Flask(__name__)           #Creating a app\r\n",
    "#create API\r\n",
    "api = Api(app)                         #creating a API\r\n",
    "\r\n",
    "if __name__==\"__main__\":\r\n",
    "        app.run(debug =True)"
   ],
   "outputs": [],
   "metadata": {}
  },
  {
   "cell_type": "markdown",
   "source": [
    "# Adding Resources"
   ],
   "metadata": {}
  },
  {
   "cell_type": "code",
   "execution_count": null,
   "source": [
    "from flask import Flask\r\n",
    "from flask_restful import Api, Resource\r\n",
    "\r\n",
    "#basic app\r\n",
    "app=Flask(__name__)\r\n",
    "api= Api(app)\r\n",
    "\r\n",
    "class HelloWorld(Resource):\r\n",
    "        def get(self):\r\n",
    "                return {\"data\":\"Hello World\"}\r\n",
    "        \r\n",
    "#register this as a Resource\r\n",
    "#api.add_resource(resource,key)\r\n",
    "api.add_resource(HelloWorld, \"/helloworld\")        # \"/\" means default url              #hence I will use /helloworld as my endpoint here\r\n",
    "\r\n",
    "if __name__ == '__main__':\r\n",
    "        app.run(debug=True)"
   ],
   "outputs": [],
   "metadata": {}
  },
  {
   "cell_type": "markdown",
   "source": [
    "# Sending Request in test.py file"
   ],
   "metadata": {}
  },
  {
   "cell_type": "code",
   "execution_count": null,
   "source": [
    "#This is used for sending requests\r\n",
    "\r\n",
    "import requests\r\n",
    "\r\n",
    "BASE= \" http://127.0.0.1:5000/\"\r\n",
    "\r\n",
    "#we can similarly post also but then we need to overwrite the post method in the resource\r\n",
    "response = requests.get(BASE + \"helloworld\")\r\n",
    "\r\n",
    "print(response.json())"
   ],
   "outputs": [],
   "metadata": {}
  },
  {
   "cell_type": "markdown",
   "source": [
    "# Handling Put Request in main.py"
   ],
   "metadata": {}
  },
  {
   "cell_type": "code",
   "execution_count": null,
   "source": [
    "from flask import Flask\r\n",
    "from flask_restful import Api, Resource\r\n",
    "\r\n",
    "#basic app\r\n",
    "app=Flask(__name__)\r\n",
    "api= Api(app)\r\n",
    "\r\n",
    "class HelloWorld(Resource):\r\n",
    "        def get(self):\r\n",
    "                return {\"data\":\"Hello World\"}\r\n",
    "        \r\n",
    "        def put(self):\r\n",
    "                return {\"data\":\"Helloworld\"}\r\n",
    "        \r\n",
    "#register this as a Resource\r\n",
    "#api.add_resource(resource,key)\r\n",
    "api.add_resource(HelloWorld, \"/helloworld\")        # \"/\" means default url              #hence I will use /helloworld as my endpoint here\r\n",
    "\r\n",
    "if __name__ == '__main__':\r\n",
    "        app.run(debug=True)"
   ],
   "outputs": [],
   "metadata": {}
  },
  {
   "cell_type": "markdown",
   "source": [
    "# Handling Put in test.py"
   ],
   "metadata": {}
  },
  {
   "cell_type": "code",
   "execution_count": null,
   "source": [
    "#This is used for sending requests\r\n",
    "\r\n",
    "import requests\r\n",
    "\r\n",
    "BASE= \" http://127.0.0.1:5000/\"\r\n",
    "\r\n",
    "#we can similarly post also but then we need to overwrite the post method in the resource\r\n",
    "response = requests.put(BASE + \"helloworld\")\r\n",
    "\r\n",
    "print(response.json())"
   ],
   "outputs": [],
   "metadata": {}
  },
  {
   "cell_type": "markdown",
   "source": [
    "# Passing Parameters in main.py"
   ],
   "metadata": {}
  },
  {
   "cell_type": "code",
   "execution_count": null,
   "source": [
    "from flask import Flask\r\n",
    "from flask_restful import Api, Resource\r\n",
    "\r\n",
    "#basic app\r\n",
    "app=Flask(__name__)\r\n",
    "api= Api(app)\r\n",
    "\r\n",
    "class HelloWorld(Resource):\r\n",
    "        def get(self,name):\r\n",
    "                return {\"data\":name}\r\n",
    "        \r\n",
    "        def put(self,name):\r\n",
    "                return {\"data\":name}\r\n",
    "        \r\n",
    "#register this as a Resource\r\n",
    "#api.add_resource(resource,key)\r\n",
    "api.add_resource(HelloWorld, \"/helloworld/<string:name>\")        # \"/\" means default url              #hence I will use /helloworld as my endpoint here\r\n",
    "\r\n",
    "if __name__ == '__main__':\r\n",
    "        app.run(debug=True)"
   ],
   "outputs": [],
   "metadata": {}
  },
  {
   "cell_type": "markdown",
   "source": [
    "# Passing Arguments in test.py"
   ],
   "metadata": {}
  },
  {
   "cell_type": "code",
   "execution_count": null,
   "source": [
    "#This is used for sending requests\r\n",
    "\r\n",
    "import requests\r\n",
    "\r\n",
    "BASE= \" http://127.0.0.1:5000/\"\r\n",
    "\r\n",
    "#we can similarly post also but then we need to overwrite the post method in the resource\r\n",
    "response = requests.get(BASE + \"helloworld/Supriyo/22\")\r\n",
    "\r\n",
    "print(response.json())"
   ],
   "outputs": [],
   "metadata": {}
  },
  {
   "cell_type": "markdown",
   "source": [
    "# Storing Data in Memory in main.py"
   ],
   "metadata": {}
  },
  {
   "cell_type": "code",
   "execution_count": null,
   "source": [
    "from flask import Flask\r\n",
    "from flask_restful import Api, Resource\r\n",
    "\r\n",
    "#basic app\r\n",
    "app=Flask(__name__)\r\n",
    "api= Api(app)\r\n",
    "\r\n",
    "names= {\"supriyo\":{\"age\":22, \"gender\":\"male\"},\r\n",
    "        \"banti\":{\"age\":19,\"gender\":\"male\"}}\r\n",
    "\r\n",
    "\r\n",
    "class HelloWorld(Resource):\r\n",
    "        def get(self,name):\r\n",
    "                return names[name]\r\n",
    "        \r\n",
    "#register this as a Resource\r\n",
    "#api.add_resource(resource,key)\r\n",
    "api.add_resource(HelloWorld, \"/helloworld/<string:name>\")        # \"/\" means default url              #hence I will use /helloworld as my endpoint here\r\n",
    "\r\n",
    "if __name__ == '__main__':\r\n",
    "        app.run(debug=True)"
   ],
   "outputs": [],
   "metadata": {}
  },
  {
   "cell_type": "markdown",
   "source": [
    "# Storing Data in Memory in test.py"
   ],
   "metadata": {}
  },
  {
   "cell_type": "code",
   "execution_count": null,
   "source": [
    "#This is used for sending requests\r\n",
    "\r\n",
    "import requests\r\n",
    "\r\n",
    "BASE= \" http://127.0.0.1:5000/\"\r\n",
    "\r\n",
    "#we can similarly post also but then we need to overwrite the post method in the resource\r\n",
    "response = requests.get(BASE + \"helloworld/banti\")\r\n",
    "\r\n",
    "print(response.json())"
   ],
   "outputs": [],
   "metadata": {}
  },
  {
   "cell_type": "markdown",
   "source": [
    "# Storing Data for video retrieval main2.py"
   ],
   "metadata": {}
  },
  {
   "cell_type": "code",
   "execution_count": null,
   "source": [
    "from flask import Flask, request\r\n",
    "from flask_restful import Api, Resource\r\n",
    "\r\n",
    "app = Flask(__name__)\r\n",
    "api= Api(app)\r\n",
    "\r\n",
    "videos={}\r\n",
    "\r\n",
    "\r\n",
    "class video(Resource):\r\n",
    "\tdef get(self,video_id):\r\n",
    "\t\treturn videos[video_id]\r\n",
    "\r\n",
    "\tdef put(self,video_id):\r\n",
    "\t\tprint(request.form['likes'])\r\n",
    "\t\treturn {}\r\n",
    "\t\r\n",
    "\r\n",
    "api.add_resource(video,\"/video/<int:video_id>\")\r\n",
    "\r\n",
    "if __name__ =='__main__':\r\n",
    "        app.run(debug=True)"
   ],
   "outputs": [],
   "metadata": {}
  },
  {
   "cell_type": "markdown",
   "source": [
    "# Storing Data fro video retrieval test2.py"
   ],
   "metadata": {}
  },
  {
   "cell_type": "code",
   "execution_count": null,
   "source": [
    "import requests\r\n",
    "\r\n",
    "BASE=\"http://127.0.0.1:5000/\"\r\n",
    "\r\n",
    "response=requests.put(BASE+\"video/1\",{\"likes\":10})\r\n",
    "print(response.json())"
   ],
   "outputs": [],
   "metadata": {}
  },
  {
   "cell_type": "markdown",
   "source": [
    "# Request Argument Parser"
   ],
   "metadata": {}
  },
  {
   "cell_type": "code",
   "execution_count": null,
   "source": [
    "from flask import Flask\r\n",
    "from flask_restful import Api, Resource, reqparse\r\n",
    "\r\n",
    "app = Flask(__name__)\r\n",
    "api= Api(app)\r\n",
    "\r\n",
    "\r\n",
    "video_put_args=reqparse.RequestParser()\r\n",
    "video_put_args.add_argument(\"name\", type=str, help=\"name of video\", required=True)\r\n",
    "video_put_args.add_argument(\"views\", type=int, help=\"Views in video\", required=True)\r\n",
    "video_put_args.add_argument(\"likes\", type=int, help=\"Likes in video\", required=True)\r\n",
    "\r\n",
    "videos={}\r\n",
    "\r\n",
    "\r\n",
    "class video(Resource):\r\n",
    "\tdef get(self,video_id):\r\n",
    "\t\treturn videos[video_id]\r\n",
    "\r\n",
    "\tdef put(self,video_id):\r\n",
    "\t\targs= video_put_args.parse_args()\r\n",
    "\t\treturn {video_id: args}\r\n",
    "\t\r\n",
    "\r\n",
    "api.add_resource(video,\"/video/<int:video_id>\")\r\n",
    "\r\n",
    "if __name__ =='__main__':\r\n",
    "        app.run(debug=True)"
   ],
   "outputs": [],
   "metadata": {}
  },
  {
   "cell_type": "markdown",
   "source": [
    "# Sending Status Code"
   ],
   "metadata": {}
  },
  {
   "cell_type": "code",
   "execution_count": null,
   "source": [
    "from flask import Flask\r\n",
    "from flask_restful import Api, Resource, reqparse\r\n",
    "\r\n",
    "app = Flask(__name__)\r\n",
    "api= Api(app)\r\n",
    "\r\n",
    "\r\n",
    "video_put_args=reqparse.RequestParser()\r\n",
    "video_put_args.add_argument(\"name\", type=str, help=\"name of video\", required=True)\r\n",
    "video_put_args.add_argument(\"views\", type=int, help=\"Views in video\", required=True)\r\n",
    "video_put_args.add_argument(\"likes\", type=int, help=\"Likes in video\", required=True)\r\n",
    "\r\n",
    "videos={}\r\n",
    "\r\n",
    "\r\n",
    "class video(Resource):\r\n",
    "\tdef get(self,video_id):\r\n",
    "\t\treturn videos[video_id]\r\n",
    "\r\n",
    "\tdef put(self,video_id):\r\n",
    "\t\targs= video_put_args.parse_args()\r\n",
    "\t\tvideos[video_id]=args\r\n",
    "\t\treturn videos[video_id], 201\t#status code\r\n",
    "\t\r\n",
    "\r\n",
    "api.add_resource(video,\"/video/<int:video_id>\")\r\n",
    "\r\n",
    "if __name__ =='__main__':\r\n",
    "        app.run(debug=True)"
   ],
   "outputs": [],
   "metadata": {}
  },
  {
   "cell_type": "markdown",
   "source": [
    "# Validating Requests in main2.py"
   ],
   "metadata": {}
  },
  {
   "cell_type": "code",
   "execution_count": null,
   "source": [
    "from flask import Flask\r\n",
    "from flask_restful import Api, Resource, reqparse, abort\r\n",
    "\r\n",
    "app = Flask(__name__)\r\n",
    "api= Api(app)\r\n",
    "\r\n",
    "\r\n",
    "\r\n",
    "\r\n",
    "video_put_args=reqparse.RequestParser()\r\n",
    "video_put_args.add_argument(\"name\", type=str, help=\"name of video\", required=True)\r\n",
    "video_put_args.add_argument(\"views\", type=int, help=\"Views in video\", required=True)\r\n",
    "video_put_args.add_argument(\"likes\", type=int, help=\"Likes in video\", required=True)\r\n",
    "\r\n",
    "videos={}\r\n",
    "\r\n",
    "def abort_if_video_id_missing(video_id):\r\n",
    "        if video_id not in videos:\r\n",
    "                abort(404,message=\"Video id is not found\")\r\n",
    "\r\n",
    "class video(Resource):\r\n",
    "\tdef get(self,video_id):\r\n",
    "\t\tabort_if_video_id_missing(video_id)\r\n",
    "\t\treturn videos[video_id]\r\n",
    "\r\n",
    "\tdef put(self,video_id):\r\n",
    "\t\targs= video_put_args.parse_args()\r\n",
    "\t\tvideos[video_id]=args\r\n",
    "\t\treturn videos[video_id], 201\t#status code\r\n",
    "\t\r\n",
    "\r\n",
    "api.add_resource(video,\"/video/<int:video_id>\")\r\n",
    "\r\n",
    "if __name__ =='__main__':\r\n",
    "        app.run(debug=True)"
   ],
   "outputs": [],
   "metadata": {}
  },
  {
   "cell_type": "markdown",
   "source": [
    "# Validating Requests in test2.py"
   ],
   "metadata": {}
  },
  {
   "cell_type": "code",
   "execution_count": null,
   "source": [
    "import requests\r\n",
    "\r\n",
    "BASE=\"http://127.0.0.1:5000/\"\r\n",
    "\r\n",
    "response=requests.put(BASE+\"video/1\",{\"likes\":10,\"name\":\"Sup\",\"views\":1000000})\r\n",
    "print(response.json())\r\n",
    "input()\r\n",
    "response=requests.get(BASE+\"video/2\")\r\n",
    "print(response.json())"
   ],
   "outputs": [],
   "metadata": {}
  },
  {
   "cell_type": "markdown",
   "source": [
    "# Handling Delete Requests in main2.py"
   ],
   "metadata": {}
  },
  {
   "cell_type": "code",
   "execution_count": null,
   "source": [
    "from flask import Flask\r\n",
    "from flask_restful import Api, Resource, reqparse, abort\r\n",
    "\r\n",
    "app = Flask(__name__)\r\n",
    "api= Api(app)\r\n",
    "\r\n",
    "\r\n",
    "\r\n",
    "\r\n",
    "video_put_args=reqparse.RequestParser()\r\n",
    "video_put_args.add_argument(\"name\", type=str, help=\"name of video\", required=True)\r\n",
    "video_put_args.add_argument(\"views\", type=int, help=\"Views in video\", required=True)\r\n",
    "video_put_args.add_argument(\"likes\", type=int, help=\"Likes in video\", required=True)\r\n",
    "\r\n",
    "videos={}\r\n",
    "\r\n",
    "def abort_if_video_id_missing(video_id):\r\n",
    "        if video_id not in videos:\r\n",
    "                abort(404,message=\"Video id is not found.....\")\r\n",
    "                \r\n",
    "def abort_if_video_id_present(video_id):\r\n",
    "        if video_id in videos:\r\n",
    "                abort(409, message=\"Video is already present....\")                \r\n",
    "\r\n",
    "class video(Resource):\r\n",
    "\tdef get(self,video_id):\r\n",
    "\t\tabort_if_video_id_missing(video_id)\r\n",
    "\t\treturn videos[video_id]\r\n",
    "\r\n",
    "\tdef put(self,video_id):\r\n",
    "\t\tabort_if_video_id_present(video_id)\r\n",
    "\t\targs= video_put_args.parse_args()\r\n",
    "\t\tvideos[video_id]=args\r\n",
    "\t\treturn videos[video_id], 201\t#status code\r\n",
    "\r\n",
    "\tdef delete(self,video_id):\r\n",
    "\t\tabort_if_video_id_missing(video_id)\r\n",
    "\t\tdel videos[video_id]\r\n",
    "\t\treturn '',204\r\n",
    "\t\r\n",
    "\r\n",
    "api.add_resource(video,\"/video/<int:video_id>\")\r\n",
    "\r\n",
    "if __name__ =='__main__':\r\n",
    "        app.run(debug=True)"
   ],
   "outputs": [],
   "metadata": {}
  },
  {
   "cell_type": "markdown",
   "source": [
    "# Handling Delete Requests in test2.py"
   ],
   "metadata": {}
  },
  {
   "cell_type": "code",
   "execution_count": null,
   "source": [
    "import requests\r\n",
    "\r\n",
    "BASE=\"http://127.0.0.1:5000/\"\r\n",
    "\r\n",
    "\r\n",
    "data=[{\"likes\":10,\"name\":\"Sup\",\"views\":1000000},\r\n",
    "      {\"likes\":70,\"name\":\"Ban\",\"views\":7000000},\r\n",
    "      {\"likes\":80,\"name\":\"ti\",\"views\":8000000},\r\n",
    "      {\"likes\":90,\"name\":\"li\",\"views\":9000000},\r\n",
    "      {\"likes\":40,\"name\":\"Ananya\",\"views\":4000000}]\r\n",
    "\r\n",
    "\r\n",
    "for i in range(len(data)):\r\n",
    "        response=requests.put(BASE+\"video/\"+str(i),data[i])\r\n",
    "        print(response.json())\r\n",
    "\r\n",
    "input()\r\n",
    "response=requests.delete(BASE+\"video/0\")\r\n",
    "print(response)\t\t#dont print in json format here\r\n",
    "input()\r\n",
    "response=requests.get(BASE+\"video/4\")\r\n",
    "print(response.json())"
   ],
   "outputs": [],
   "metadata": {}
  },
  {
   "cell_type": "markdown",
   "source": [
    "# Handling Database"
   ],
   "metadata": {}
  },
  {
   "cell_type": "code",
   "execution_count": null,
   "source": [
    "\r\n",
    "from flask import Flask\r\n",
    "from flask_restful import Api, Resource, reqparse, abort\r\n",
    "from flask_sqlalchemy import SQLAlchemy\r\n",
    "\r\n",
    "app = Flask(__name__)\r\n",
    "api= Api(app)\r\n",
    "\r\n",
    "#config the app\r\n",
    "app.config['SQLALCHEMY_DATABASE_URI']='sqlite:///database.db'\r\n",
    "db= SQLAlchemy(app)\r\n",
    "\r\n",
    "\r\n",
    "class VideoModel(db.Model):\r\n",
    "        id=db.Column(db.Integer, primary_key=True)\r\n",
    "        name=db.Column(db.String(100),nullable=False)\r\n",
    "        views=db.Column(db.Integer,nullable=False)\r\n",
    "        likes=db.Column(db.Integer,nullable=False)\r\n",
    "        \r\n",
    "        \r\n",
    "        def __repr__(self):\r\n",
    "                return f\"Video(name={name}, views={views}, likes={likes})\"\r\n",
    "\r\n",
    "#db.create_all()\t\t#run only once\r\n",
    "\r\n",
    "\r\n",
    "\r\n",
    "\r\n",
    "\r\n",
    "video_put_args=reqparse.RequestParser()\r\n",
    "video_put_args.add_argument(\"name\", type=str, help=\"name of video\", required=True)\r\n",
    "video_put_args.add_argument(\"views\", type=int, help=\"Views in video\", required=True)\r\n",
    "video_put_args.add_argument(\"likes\", type=int, help=\"Likes in video\", required=True)\r\n",
    "\r\n",
    "videos={}\r\n",
    "\r\n",
    "def abort_if_video_id_missing(video_id):\r\n",
    "        if video_id not in videos:\r\n",
    "                abort(404,message=\"Video id is not found.....\")\r\n",
    "                \r\n",
    "def abort_if_video_id_present(video_id):\r\n",
    "        if video_id in videos:\r\n",
    "                abort(409, message=\"Video is already present....\")                \r\n",
    "\r\n",
    "class video(Resource):\r\n",
    "\tdef get(self,video_id):\r\n",
    "\t\tabort_if_video_id_missing(video_id)\r\n",
    "\t\treturn videos[video_id]\r\n",
    "\r\n",
    "\tdef put(self,video_id):\r\n",
    "\t\tabort_if_video_id_present(video_id)\r\n",
    "\t\targs= video_put_args.parse_args()\r\n",
    "\t\tvideos[video_id]=args\r\n",
    "\t\treturn videos[video_id], 201\t#status code\r\n",
    "\r\n",
    "\tdef delete(self,video_id):\r\n",
    "\t\tabort_if_video_id_missing(video_id)\r\n",
    "\t\tdel videos[video_id]\r\n",
    "\t\treturn '',204\r\n",
    "\t\r\n",
    "\r\n",
    "api.add_resource(video,\"/video/<int:video_id>\")\r\n",
    "\r\n",
    "if __name__ =='__main__':\r\n",
    "        app.run(debug=True)"
   ],
   "outputs": [],
   "metadata": {}
  },
  {
   "cell_type": "markdown",
   "source": [
    "# Querying Database and Serializing Objects"
   ],
   "metadata": {}
  },
  {
   "cell_type": "code",
   "execution_count": null,
   "source": [
    "from flask import Flask\r\n",
    "from flask_restful import Api, Resource, reqparse, abort, fields, marshal_with\r\n",
    "from flask_sqlalchemy import SQLAlchemy\r\n",
    "\r\n",
    "app = Flask(__name__)\r\n",
    "api= Api(app)\r\n",
    "\r\n",
    "#config the app\r\n",
    "app.config['SQLALCHEMY_DATABASE_URI']='sqlite:///database.db'\r\n",
    "db= SQLAlchemy(app)\r\n",
    "\r\n",
    "\r\n",
    "class VideoModel(db.Model):\r\n",
    "        id=db.Column(db.Integer, primary_key=True)\r\n",
    "        name=db.Column(db.String(100),nullable=False)\r\n",
    "        views=db.Column(db.Integer,nullable=False)\r\n",
    "        likes=db.Column(db.Integer,nullable=False)\r\n",
    "        \r\n",
    "        \r\n",
    "        def __repr__(self):\r\n",
    "                return f\"Video(name={name}, views={views}, likes={likes})\"\r\n",
    "\r\n",
    "#db.create_all()\t\t#run only once\r\n",
    "\r\n",
    "\r\n",
    "\r\n",
    "\r\n",
    "\r\n",
    "video_put_args=reqparse.RequestParser()\r\n",
    "video_put_args.add_argument(\"name\", type=str, help=\"name of video\", required=True)\r\n",
    "video_put_args.add_argument(\"views\", type=int, help=\"Views in video\", required=True)\r\n",
    "video_put_args.add_argument(\"likes\", type=int, help=\"Likes in video\", required=True)\r\n",
    "\r\n",
    "resource_fields={\r\n",
    "\t'id' : fields.Integer,\r\n",
    "\t'name': fields.String,\r\n",
    "\t'views':fields.Integer,\r\n",
    "\t'likes':fields.Integer\r\n",
    "}\r\n",
    "               \r\n",
    "\r\n",
    "class video(Resource):\r\n",
    "        @marshal_with(resource_fields)\r\n",
    "        def get(self,video_id):\r\n",
    "                result=VideoModel.query.filter_by(id=video_id).first()\r\n",
    "                if not result:\r\n",
    "                        abort(404,message=\"Video not found\")\r\n",
    "                return result\r\n",
    "        \r\n",
    "        @marshal_with(resource_fields)\r\n",
    "        def put(self,video_id):\r\n",
    "                args= video_put_args.parse_args()\r\n",
    "                result=VideoModel.query.filter_by(id=video_id).first()\r\n",
    "                if result:\r\n",
    "                        abort(409,message=\"Video already present....\")\r\n",
    "                video = VideoModel(id=video_id, name=args['name'], views=args['views'], likes=args['likes'])\r\n",
    "                db.session.add(video)\r\n",
    "                db.session.commit()\r\n",
    "                return video,201\r\n",
    "        \r\n",
    "        \r\n",
    "\t\r\n",
    "\r\n",
    "api.add_resource(video,\"/video/<int:video_id>\")\r\n",
    "\r\n",
    "if __name__ =='__main__':\r\n",
    "        app.run(debug=True)"
   ],
   "outputs": [],
   "metadata": {}
  }
 ],
 "metadata": {
  "orig_nbformat": 4,
  "language_info": {
   "name": "python",
   "version": "3.9.5",
   "mimetype": "text/x-python",
   "codemirror_mode": {
    "name": "ipython",
    "version": 3
   },
   "pygments_lexer": "ipython3",
   "nbconvert_exporter": "python",
   "file_extension": ".py"
  },
  "kernelspec": {
   "name": "python3",
   "display_name": "Python 3.9.5 64-bit"
  },
  "interpreter": {
   "hash": "3c2019ca3ebf4231880071d746ed2d6e4c3d1f48fe2466d3647b0a5b25177c16"
  }
 },
 "nbformat": 4,
 "nbformat_minor": 2
}